{
 "cells": [
  {
   "cell_type": "code",
   "execution_count": 14,
   "metadata": {},
   "outputs": [],
   "source": [
    "import os\n",
    "import csv\n",
    "\n",
    "# Path to collect data from the Resources folder\n",
    "budget_data = os.path.join('Resources', 'budget_data.csv')"
   ]
  },
  {
   "cell_type": "code",
   "execution_count": 86,
   "metadata": {},
   "outputs": [
    {
     "name": "stdout",
     "output_type": "stream",
     "text": [
      "Total Months: 86\n",
      "Total Revenue: 38382578\n",
      "Average Change: -2315.1176470588234\n"
     ]
    }
   ],
   "source": [
    "total_months = 0\n",
    "total_revenue = 0\n",
    "total_change = []\n",
    "months = []\n",
    "\n",
    "with open(budget_data, 'r') as csvfile:\n",
    "\n",
    "    # Split the data on commas\n",
    "    csvreader = csv.reader(csvfile, delimiter=',')\n",
    "\n",
    "    header = next(csvreader)\n",
    "    \n",
    "    #Loop through the data\n",
    "    for row in csvreader:\n",
    "        \n",
    "        total_months += 1\n",
    "        total_revenue = total_revenue + int(row[1])\n",
    "        \n",
    "        if total_months == 1:\n",
    "            prev_rev = int(row[1])\n",
    "            \n",
    "        if total_months >1:\n",
    "            monthly_change = int(row[1]) - prev_rev\n",
    "            total_change.append(monthly_change)\n",
    "            months.append(row[0])\n",
    "            prev_rev = int(row[1])\n",
    "\n",
    "    \n",
    "print(f'Total Months: {(total_months)}')\n",
    "print(f'Total Revenue: {total_revenue}')\n",
    "print(f'Average Change: {sum(total_change)/len(total_change)}') "
   ]
  },
  {
   "cell_type": "code",
   "execution_count": null,
   "metadata": {},
   "outputs": [],
   "source": []
  },
  {
   "cell_type": "code",
   "execution_count": null,
   "metadata": {},
   "outputs": [],
   "source": []
  }
 ],
 "metadata": {
  "kernelspec": {
   "display_name": "Python 3",
   "language": "python",
   "name": "python3"
  },
  "language_info": {
   "codemirror_mode": {
    "name": "ipython",
    "version": 3
   },
   "file_extension": ".py",
   "mimetype": "text/x-python",
   "name": "python",
   "nbconvert_exporter": "python",
   "pygments_lexer": "ipython3",
   "version": "3.7.6"
  }
 },
 "nbformat": 4,
 "nbformat_minor": 4
}
