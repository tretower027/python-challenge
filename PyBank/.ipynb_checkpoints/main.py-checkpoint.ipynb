{
 "cells": [
  {
   "cell_type": "code",
   "execution_count": 2,
   "metadata": {},
   "outputs": [],
   "source": [
    "import os\n",
    "import csv\n",
    "\n",
    "# Path to collect data from the Resources folder\n",
    "budget_data = os.path.join('Resources', 'budget_data.csv')"
   ]
  },
  {
   "cell_type": "code",
   "execution_count": 17,
   "metadata": {},
   "outputs": [
    {
     "name": "stdout",
     "output_type": "stream",
     "text": [
      "Total Months: 86\n",
      "Total Revenue: 38382578\n",
      "Average Change: -2315.12\n",
      "Greatest Increase in Profits: 1926159\n",
      "Greatest Decrease in Profits: -2196167\n"
     ]
    }
   ],
   "source": [
    "#starting variables\n",
    "total_months = 0\n",
    "total_revenue = 0\n",
    "previous_increase = 0\n",
    "greatest_increase = []\n",
    "total_change = []\n",
    "months = []\n",
    "\n",
    "#open budget_data file\n",
    "with open(budget_data, 'r') as csvfile:\n",
    "\n",
    "    # Split the data on commas\n",
    "    csvreader = csv.reader(csvfile, delimiter=',')\n",
    "\n",
    "    #skip the header\n",
    "    header = next(csvreader)\n",
    "    \n",
    "    #Loop through the data\n",
    "    for row in csvreader:\n",
    "        \n",
    "        #find total number of months\n",
    "        total_months += 1\n",
    "       #find total amount of \"Profit/Losses\"\n",
    "        total_revenue = total_revenue + int(row[1])\n",
    "        \n",
    "        if total_months == 1:\n",
    "            prev_rev = int(row[1])\n",
    "           \n",
    "        # find the average of the changes in \"Profit/Losses\"\n",
    "        if total_months >1:\n",
    "            monthly_change = int(row[1]) - prev_rev\n",
    "            total_change.append(monthly_change)\n",
    "            months.append(row[0])\n",
    "            prev_rev = int(row[1])\n",
    "          \n",
    "        #find the greatest increase/decrease in profits\n",
    "        current_value = int(row[1])\n",
    "        \n",
    "        greatest_in = int(current_value) - int(previous_increase)\n",
    "        greatest_increase.append(greatest_in)\n",
    "        previous_increase = current_value\n",
    "       \n",
    "        max_value = (max(greatest_increase))\n",
    "        min_value = (min(greatest_increase))\n",
    "        \n",
    "\n",
    "   #print analysis to terminal  \n",
    "    print(f'Total Months: {(total_months)}')\n",
    "    print(f'Total Revenue: {total_revenue}')\n",
    "    print(f'Average Change: {round(sum(total_change)/len(total_change),2)}') \n",
    "    print(f'Greatest Increase in Profits: {max_value}')\n",
    "    print(f'Greatest Decrease in Profits: {min_value}')\n"
   ]
  },
  {
   "cell_type": "code",
   "execution_count": 27,
   "metadata": {},
   "outputs": [],
   "source": [
    "#export text file to analysis folder\n",
    "file_path = os.path.join(\"Analysis\", \"Analysis.txt\")\n",
    "with open(file_path, 'w', newline='') as text_file:\n",
    "    \n",
    "    print(\"Financial Analysis\", file=text_file)\n",
    "    print(f'Total Months: {(total_months)}', file=text_file)\n",
    "    print(f'Total Revenue: {total_revenue}', file=text_file)\n",
    "    print(f'Average Change: {round(sum(total_change)/len(total_change),2)}', file=text_file) \n",
    "    print(f'Greatest Increase in Profits: {max(greatest_increase)}', file=text_file)\n",
    "    print(f'Greatest Decrease in Profits: {min(greatest_increase)}', file=text_file)\n",
    "    \n",
    "    csvfile.close()"
   ]
  },
  {
   "cell_type": "code",
   "execution_count": null,
   "metadata": {},
   "outputs": [],
   "source": []
  }
 ],
 "metadata": {
  "kernelspec": {
   "display_name": "Python 3",
   "language": "python",
   "name": "python3"
  },
  "language_info": {
   "codemirror_mode": {
    "name": "ipython",
    "version": 3
   },
   "file_extension": ".py",
   "mimetype": "text/x-python",
   "name": "python",
   "nbconvert_exporter": "python",
   "pygments_lexer": "ipython3",
   "version": "3.7.6"
  }
 },
 "nbformat": 4,
 "nbformat_minor": 4
}
