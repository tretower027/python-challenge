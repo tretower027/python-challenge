{
 "cells": [
  {
   "cell_type": "code",
   "execution_count": 47,
   "metadata": {},
   "outputs": [],
   "source": [
    "import os\n",
    "import csv\n",
    "\n",
    "# Path to collect data from the Resources folder\n",
    "election_data = os.path.join('Resources', 'election_data.csv')"
   ]
  },
  {
   "cell_type": "code",
   "execution_count": 48,
   "metadata": {},
   "outputs": [
    {
     "name": "stdout",
     "output_type": "stream",
     "text": [
      "Total Votes: 3521001\n",
      "Candidates: {'Khan': 2218231, 'Correy': 704200, 'Li': 492940, \"O'Tooley\": 105630}\n"
     ]
    }
   ],
   "source": [
    "total_votes = 0\n",
    "candidate_list = []\n",
    "candidate_votes = {}\n",
    "with open(election_data, 'r') as csvfile:\n",
    "    \n",
    "    csvreader = csv.reader(csvfile, delimiter=',')\n",
    "    \n",
    "    header = next(csvreader)\n",
    "    \n",
    "    for row in csvreader:\n",
    "        \n",
    "        total_votes += 1\n",
    "     \n",
    "\n",
    "        unique_candidate = row[2]\n",
    "        if unique_candidate not in candidate_list:\n",
    "            candidate_list.append(unique_candidate)\n",
    "            # Init a new Key/Value for a new candidate and set value to 0.\n",
    "            candidate_votes[unique_candidate] = 0\n",
    "        # Add 1 to vote count for that candidate.\n",
    "    \n",
    "        candidate_votes[unique_candidate] += 1\n",
    "    \n",
    "    \n",
    "    \n",
    "\n",
    "    \n",
    "                \n",
    "        \n",
    "\n",
    "        \n",
    "        \n",
    "        \n",
    "        \n",
    "        \n",
    "        \n",
    "        \n",
    "        \n",
    "        \n",
    "print(f'Total Votes: {(total_votes)}')\n",
    "print(f'Candidates: {(candidate_votes)}')\n",
    "\n"
   ]
  },
  {
   "cell_type": "code",
   "execution_count": 49,
   "metadata": {},
   "outputs": [
    {
     "name": "stdout",
     "output_type": "stream",
     "text": [
      "Khan: 63.000% (2218231)\n",
      "Correy: 20.000% (704200)\n",
      "Li: 14.000% (492940)\n",
      "O'Tooley: 3.000% (105630)\n"
     ]
    }
   ],
   "source": [
    "for name, count in candidate_votes.items():\n",
    "#     print(f'{key}: {value}')\n",
    "    vote_percent = (count/total_votes)*100\n",
    "    print (f'{name}: {vote_percent:.3f}% ({count})')"
   ]
  },
  {
   "cell_type": "code",
   "execution_count": 50,
   "metadata": {},
   "outputs": [
    {
     "name": "stdout",
     "output_type": "stream",
     "text": [
      "Khan\n"
     ]
    }
   ],
   "source": [
    "Candidate_win = max(candidate_votes, key=candidate_votes.get) \n",
    "print(Candidate_win) "
   ]
  },
  {
   "cell_type": "code",
   "execution_count": 51,
   "metadata": {},
   "outputs": [
    {
     "name": "stdout",
     "output_type": "stream",
     "text": [
      "Election Results\n",
      "-------------------------\n",
      "Total Votes: 3521001\n",
      "-------------------------\n",
      "Khan: 63.000% (2218231)\n",
      "Correy: 20.000% (704200)\n",
      "Li: 14.000% (492940)\n",
      "O'Tooley: 3.000% (105630)\n",
      "-------------------------\n",
      "Winner:(Candidate_win)\n",
      "-------------------------\n"
     ]
    }
   ],
   "source": [
    "with open('Analysis/election_out.txt', \"w\") as txtfile:\n",
    "    print(\"Election Results\")\n",
    "    txtfile.write('Election Results\\n')\n",
    "    print(\"-------------------------\")\n",
    "    txtfile.write(\"-------------------------\\n\")\n",
    "    print(f'Total Votes: {(total_votes)}')\n",
    "    txtfile.write (f'Total Votes: {(total_votes)}\\n')\n",
    "    print(\"-------------------------\")\n",
    "    txtfile.write(\"-------------------------\\n\")\n",
    "    for name, count in candidate_votes.items():\n",
    "        vote_percent = (count/total_votes)*100\n",
    "        print (f'{name}: {vote_percent:.3f}% ({count})')\n",
    "        txtfile.write(f'{name}: {vote_percent:.3f}% ({count})\\n')\n",
    "    print(\"-------------------------\")\n",
    "    txtfile.write(\"-------------------------\\n\")\n",
    "    print(f'Winner:(Candidate_win)')\n",
    "    txtfile.write(f'Winner:(Candidate_win)\\n')\n",
    "    print(\"-------------------------\")\n",
    "    txtfile.write(\"-------------------------\\n\")"
   ]
  },
  {
   "cell_type": "code",
   "execution_count": null,
   "metadata": {},
   "outputs": [],
   "source": []
  }
 ],
 "metadata": {
  "kernelspec": {
   "display_name": "Python 3",
   "language": "python",
   "name": "python3"
  },
  "language_info": {
   "codemirror_mode": {
    "name": "ipython",
    "version": 3
   },
   "file_extension": ".py",
   "mimetype": "text/x-python",
   "name": "python",
   "nbconvert_exporter": "python",
   "pygments_lexer": "ipython3",
   "version": "3.7.6"
  }
 },
 "nbformat": 4,
 "nbformat_minor": 4
}
